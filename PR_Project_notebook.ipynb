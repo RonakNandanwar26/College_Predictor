{
 "cells": [
  {
   "cell_type": "code",
   "execution_count": 2,
   "metadata": {},
   "outputs": [],
   "source": [
    "import pandas as pd"
   ]
  },
  {
   "cell_type": "code",
   "execution_count": 3,
   "metadata": {},
   "outputs": [
    {
     "ename": "FileNotFoundError",
     "evalue": "[Errno 2] No such file or directory: 'updated_data1.xlsx'",
     "output_type": "error",
     "traceback": [
      "\u001b[0;31m---------------------------------------------------------------------------\u001b[0m",
      "\u001b[0;31mFileNotFoundError\u001b[0m                         Traceback (most recent call last)",
      "\u001b[0;32m<ipython-input-3-77e357e62133>\u001b[0m in \u001b[0;36m<module>\u001b[0;34m\u001b[0m\n\u001b[0;32m----> 1\u001b[0;31m \u001b[0mdf\u001b[0m \u001b[0;34m=\u001b[0m \u001b[0mpd\u001b[0m\u001b[0;34m.\u001b[0m\u001b[0mread_excel\u001b[0m\u001b[0;34m(\u001b[0m\u001b[0;34m'updated_data1.xlsx'\u001b[0m\u001b[0;34m)\u001b[0m\u001b[0;34m\u001b[0m\u001b[0;34m\u001b[0m\u001b[0m\n\u001b[0m",
      "\u001b[0;32m~/.local/lib/python3.8/site-packages/pandas/util/_decorators.py\u001b[0m in \u001b[0;36mwrapper\u001b[0;34m(*args, **kwargs)\u001b[0m\n\u001b[1;32m    297\u001b[0m                 )\n\u001b[1;32m    298\u001b[0m                 \u001b[0mwarnings\u001b[0m\u001b[0;34m.\u001b[0m\u001b[0mwarn\u001b[0m\u001b[0;34m(\u001b[0m\u001b[0mmsg\u001b[0m\u001b[0;34m,\u001b[0m \u001b[0mFutureWarning\u001b[0m\u001b[0;34m,\u001b[0m \u001b[0mstacklevel\u001b[0m\u001b[0;34m=\u001b[0m\u001b[0mstacklevel\u001b[0m\u001b[0;34m)\u001b[0m\u001b[0;34m\u001b[0m\u001b[0;34m\u001b[0m\u001b[0m\n\u001b[0;32m--> 299\u001b[0;31m             \u001b[0;32mreturn\u001b[0m \u001b[0mfunc\u001b[0m\u001b[0;34m(\u001b[0m\u001b[0;34m*\u001b[0m\u001b[0margs\u001b[0m\u001b[0;34m,\u001b[0m \u001b[0;34m**\u001b[0m\u001b[0mkwargs\u001b[0m\u001b[0;34m)\u001b[0m\u001b[0;34m\u001b[0m\u001b[0;34m\u001b[0m\u001b[0m\n\u001b[0m\u001b[1;32m    300\u001b[0m \u001b[0;34m\u001b[0m\u001b[0m\n\u001b[1;32m    301\u001b[0m         \u001b[0;32mreturn\u001b[0m \u001b[0mwrapper\u001b[0m\u001b[0;34m\u001b[0m\u001b[0;34m\u001b[0m\u001b[0m\n",
      "\u001b[0;32m~/.local/lib/python3.8/site-packages/pandas/io/excel/_base.py\u001b[0m in \u001b[0;36mread_excel\u001b[0;34m(io, sheet_name, header, names, index_col, usecols, squeeze, dtype, engine, converters, true_values, false_values, skiprows, nrows, na_values, keep_default_na, na_filter, verbose, parse_dates, date_parser, thousands, comment, skipfooter, convert_float, mangle_dupe_cols, storage_options)\u001b[0m\n\u001b[1;32m    334\u001b[0m     \u001b[0;32mif\u001b[0m \u001b[0;32mnot\u001b[0m \u001b[0misinstance\u001b[0m\u001b[0;34m(\u001b[0m\u001b[0mio\u001b[0m\u001b[0;34m,\u001b[0m \u001b[0mExcelFile\u001b[0m\u001b[0;34m)\u001b[0m\u001b[0;34m:\u001b[0m\u001b[0;34m\u001b[0m\u001b[0;34m\u001b[0m\u001b[0m\n\u001b[1;32m    335\u001b[0m         \u001b[0mshould_close\u001b[0m \u001b[0;34m=\u001b[0m \u001b[0;32mTrue\u001b[0m\u001b[0;34m\u001b[0m\u001b[0;34m\u001b[0m\u001b[0m\n\u001b[0;32m--> 336\u001b[0;31m         \u001b[0mio\u001b[0m \u001b[0;34m=\u001b[0m \u001b[0mExcelFile\u001b[0m\u001b[0;34m(\u001b[0m\u001b[0mio\u001b[0m\u001b[0;34m,\u001b[0m \u001b[0mstorage_options\u001b[0m\u001b[0;34m=\u001b[0m\u001b[0mstorage_options\u001b[0m\u001b[0;34m,\u001b[0m \u001b[0mengine\u001b[0m\u001b[0;34m=\u001b[0m\u001b[0mengine\u001b[0m\u001b[0;34m)\u001b[0m\u001b[0;34m\u001b[0m\u001b[0;34m\u001b[0m\u001b[0m\n\u001b[0m\u001b[1;32m    337\u001b[0m     \u001b[0;32melif\u001b[0m \u001b[0mengine\u001b[0m \u001b[0;32mand\u001b[0m \u001b[0mengine\u001b[0m \u001b[0;34m!=\u001b[0m \u001b[0mio\u001b[0m\u001b[0;34m.\u001b[0m\u001b[0mengine\u001b[0m\u001b[0;34m:\u001b[0m\u001b[0;34m\u001b[0m\u001b[0;34m\u001b[0m\u001b[0m\n\u001b[1;32m    338\u001b[0m         raise ValueError(\n",
      "\u001b[0;32m~/.local/lib/python3.8/site-packages/pandas/io/excel/_base.py\u001b[0m in \u001b[0;36m__init__\u001b[0;34m(self, path_or_buffer, engine, storage_options)\u001b[0m\n\u001b[1;32m   1060\u001b[0m         \u001b[0;32melse\u001b[0m\u001b[0;34m:\u001b[0m\u001b[0;34m\u001b[0m\u001b[0;34m\u001b[0m\u001b[0m\n\u001b[1;32m   1061\u001b[0m             \u001b[0;31m# path_or_buffer is path-like, use stringified path\u001b[0m\u001b[0;34m\u001b[0m\u001b[0;34m\u001b[0m\u001b[0;34m\u001b[0m\u001b[0m\n\u001b[0;32m-> 1062\u001b[0;31m             ext = inspect_excel_format(\n\u001b[0m\u001b[1;32m   1063\u001b[0m                 \u001b[0mpath\u001b[0m\u001b[0;34m=\u001b[0m\u001b[0mstr\u001b[0m\u001b[0;34m(\u001b[0m\u001b[0mself\u001b[0m\u001b[0;34m.\u001b[0m\u001b[0m_io\u001b[0m\u001b[0;34m)\u001b[0m\u001b[0;34m,\u001b[0m \u001b[0mstorage_options\u001b[0m\u001b[0;34m=\u001b[0m\u001b[0mstorage_options\u001b[0m\u001b[0;34m\u001b[0m\u001b[0;34m\u001b[0m\u001b[0m\n\u001b[1;32m   1064\u001b[0m             )\n",
      "\u001b[0;32m~/.local/lib/python3.8/site-packages/pandas/io/excel/_base.py\u001b[0m in \u001b[0;36minspect_excel_format\u001b[0;34m(path, content, storage_options)\u001b[0m\n\u001b[1;32m    936\u001b[0m     \u001b[0;32massert\u001b[0m \u001b[0mcontent_or_path\u001b[0m \u001b[0;32mis\u001b[0m \u001b[0;32mnot\u001b[0m \u001b[0;32mNone\u001b[0m\u001b[0;34m\u001b[0m\u001b[0;34m\u001b[0m\u001b[0m\n\u001b[1;32m    937\u001b[0m \u001b[0;34m\u001b[0m\u001b[0m\n\u001b[0;32m--> 938\u001b[0;31m     with get_handle(\n\u001b[0m\u001b[1;32m    939\u001b[0m         \u001b[0mcontent_or_path\u001b[0m\u001b[0;34m,\u001b[0m \u001b[0;34m\"rb\"\u001b[0m\u001b[0;34m,\u001b[0m \u001b[0mstorage_options\u001b[0m\u001b[0;34m=\u001b[0m\u001b[0mstorage_options\u001b[0m\u001b[0;34m,\u001b[0m \u001b[0mis_text\u001b[0m\u001b[0;34m=\u001b[0m\u001b[0;32mFalse\u001b[0m\u001b[0;34m\u001b[0m\u001b[0;34m\u001b[0m\u001b[0m\n\u001b[1;32m    940\u001b[0m     ) as handle:\n",
      "\u001b[0;32m~/.local/lib/python3.8/site-packages/pandas/io/common.py\u001b[0m in \u001b[0;36mget_handle\u001b[0;34m(path_or_buf, mode, encoding, compression, memory_map, is_text, errors, storage_options)\u001b[0m\n\u001b[1;32m    646\u001b[0m         \u001b[0;32melse\u001b[0m\u001b[0;34m:\u001b[0m\u001b[0;34m\u001b[0m\u001b[0;34m\u001b[0m\u001b[0m\n\u001b[1;32m    647\u001b[0m             \u001b[0;31m# Binary mode\u001b[0m\u001b[0;34m\u001b[0m\u001b[0;34m\u001b[0m\u001b[0;34m\u001b[0m\u001b[0m\n\u001b[0;32m--> 648\u001b[0;31m             \u001b[0mhandle\u001b[0m \u001b[0;34m=\u001b[0m \u001b[0mopen\u001b[0m\u001b[0;34m(\u001b[0m\u001b[0mhandle\u001b[0m\u001b[0;34m,\u001b[0m \u001b[0mioargs\u001b[0m\u001b[0;34m.\u001b[0m\u001b[0mmode\u001b[0m\u001b[0;34m)\u001b[0m\u001b[0;34m\u001b[0m\u001b[0;34m\u001b[0m\u001b[0m\n\u001b[0m\u001b[1;32m    649\u001b[0m         \u001b[0mhandles\u001b[0m\u001b[0;34m.\u001b[0m\u001b[0mappend\u001b[0m\u001b[0;34m(\u001b[0m\u001b[0mhandle\u001b[0m\u001b[0;34m)\u001b[0m\u001b[0;34m\u001b[0m\u001b[0;34m\u001b[0m\u001b[0m\n\u001b[1;32m    650\u001b[0m \u001b[0;34m\u001b[0m\u001b[0m\n",
      "\u001b[0;31mFileNotFoundError\u001b[0m: [Errno 2] No such file or directory: 'updated_data1.xlsx'"
     ]
    }
   ],
   "source": [
    "df = pd.read_excel('updated_data1.xlsx')"
   ]
  },
  {
   "cell_type": "code",
   "execution_count": 19,
   "metadata": {},
   "outputs": [
    {
     "data": {
      "text/html": [
       "<div>\n",
       "<style scoped>\n",
       "    .dataframe tbody tr th:only-of-type {\n",
       "        vertical-align: middle;\n",
       "    }\n",
       "\n",
       "    .dataframe tbody tr th {\n",
       "        vertical-align: top;\n",
       "    }\n",
       "\n",
       "    .dataframe thead th {\n",
       "        text-align: right;\n",
       "    }\n",
       "</style>\n",
       "<table border=\"1\" class=\"dataframe\">\n",
       "  <thead>\n",
       "    <tr style=\"text-align: right;\">\n",
       "      <th></th>\n",
       "      <th>Unnamed: 0</th>\n",
       "      <th>XIIth Board</th>\n",
       "      <th>XIIth score</th>\n",
       "      <th>Entrance given</th>\n",
       "      <th>JEE Score</th>\n",
       "      <th>GUJCET Score</th>\n",
       "      <th>College/University</th>\n",
       "      <th>Field</th>\n",
       "      <th>XII60</th>\n",
       "      <th>GUJCET 40%</th>\n",
       "      <th>JEE 40%</th>\n",
       "      <th>Final_G</th>\n",
       "      <th>Final_J</th>\n",
       "    </tr>\n",
       "  </thead>\n",
       "  <tbody>\n",
       "    <tr>\n",
       "      <th>0</th>\n",
       "      <td>0</td>\n",
       "      <td>GSEB</td>\n",
       "      <td>89.0</td>\n",
       "      <td>JEE, GUJCET</td>\n",
       "      <td>44.0</td>\n",
       "      <td>66.00</td>\n",
       "      <td>Indus University</td>\n",
       "      <td>Computer science and engineering</td>\n",
       "      <td>53.4</td>\n",
       "      <td>26.400</td>\n",
       "      <td>17.6</td>\n",
       "      <td>79.800</td>\n",
       "      <td>71.0</td>\n",
       "    </tr>\n",
       "    <tr>\n",
       "      <th>1</th>\n",
       "      <td>1</td>\n",
       "      <td>GSEB</td>\n",
       "      <td>71.0</td>\n",
       "      <td>JEE, GUJCET</td>\n",
       "      <td>67.0</td>\n",
       "      <td>67.00</td>\n",
       "      <td>Indus University</td>\n",
       "      <td>Computer science and engineering</td>\n",
       "      <td>42.6</td>\n",
       "      <td>26.800</td>\n",
       "      <td>26.8</td>\n",
       "      <td>69.400</td>\n",
       "      <td>69.4</td>\n",
       "    </tr>\n",
       "    <tr>\n",
       "      <th>2</th>\n",
       "      <td>2</td>\n",
       "      <td>CBSE</td>\n",
       "      <td>78.0</td>\n",
       "      <td>JEE, GUJCET</td>\n",
       "      <td>46.0</td>\n",
       "      <td>45.00</td>\n",
       "      <td>Indus University</td>\n",
       "      <td>Computer engineering</td>\n",
       "      <td>46.8</td>\n",
       "      <td>18.000</td>\n",
       "      <td>18.4</td>\n",
       "      <td>64.800</td>\n",
       "      <td>65.2</td>\n",
       "    </tr>\n",
       "    <tr>\n",
       "      <th>3</th>\n",
       "      <td>3</td>\n",
       "      <td>CBSE</td>\n",
       "      <td>70.0</td>\n",
       "      <td>JEE</td>\n",
       "      <td>55.0</td>\n",
       "      <td>NaN</td>\n",
       "      <td>Indus University</td>\n",
       "      <td>Computer engineering</td>\n",
       "      <td>42.0</td>\n",
       "      <td>NaN</td>\n",
       "      <td>22.0</td>\n",
       "      <td>NaN</td>\n",
       "      <td>64.0</td>\n",
       "    </tr>\n",
       "    <tr>\n",
       "      <th>4</th>\n",
       "      <td>4</td>\n",
       "      <td>GSEB</td>\n",
       "      <td>78.0</td>\n",
       "      <td>JEE, GUJCET</td>\n",
       "      <td>54.0</td>\n",
       "      <td>45.67</td>\n",
       "      <td>Indus University</td>\n",
       "      <td>Information technology</td>\n",
       "      <td>46.8</td>\n",
       "      <td>18.268</td>\n",
       "      <td>21.6</td>\n",
       "      <td>65.068</td>\n",
       "      <td>68.4</td>\n",
       "    </tr>\n",
       "  </tbody>\n",
       "</table>\n",
       "</div>"
      ],
      "text/plain": [
       "   Unnamed: 0 XIIth Board  XIIth score Entrance given  JEE Score  \\\n",
       "0           0        GSEB         89.0    JEE, GUJCET       44.0   \n",
       "1           1        GSEB         71.0    JEE, GUJCET       67.0   \n",
       "2           2        CBSE         78.0    JEE, GUJCET       46.0   \n",
       "3           3        CBSE         70.0            JEE       55.0   \n",
       "4           4        GSEB         78.0    JEE, GUJCET       54.0   \n",
       "\n",
       "   GUJCET Score College/University                             Field  XII60  \\\n",
       "0         66.00   Indus University  Computer science and engineering   53.4   \n",
       "1         67.00   Indus University  Computer science and engineering   42.6   \n",
       "2         45.00   Indus University              Computer engineering   46.8   \n",
       "3           NaN   Indus University              Computer engineering   42.0   \n",
       "4         45.67   Indus University            Information technology   46.8   \n",
       "\n",
       "   GUJCET 40%  JEE 40%  Final_G  Final_J  \n",
       "0      26.400     17.6   79.800     71.0  \n",
       "1      26.800     26.8   69.400     69.4  \n",
       "2      18.000     18.4   64.800     65.2  \n",
       "3         NaN     22.0      NaN     64.0  \n",
       "4      18.268     21.6   65.068     68.4  "
      ]
     },
     "execution_count": 19,
     "metadata": {},
     "output_type": "execute_result"
    }
   ],
   "source": [
    "df.head()"
   ]
  },
  {
   "cell_type": "code",
   "execution_count": 20,
   "metadata": {},
   "outputs": [
    {
     "data": {
      "text/plain": [
       "Index(['Unnamed: 0', 'XIIth Board', 'XIIth score', 'Entrance given',\n",
       "       'JEE Score', 'GUJCET Score', 'College/University', 'Field', 'XII60',\n",
       "       'GUJCET 40%', 'JEE 40%', 'Final_G', 'Final_J'],\n",
       "      dtype='object')"
      ]
     },
     "execution_count": 20,
     "metadata": {},
     "output_type": "execute_result"
    }
   ],
   "source": [
    "df.columns"
   ]
  },
  {
   "cell_type": "code",
   "execution_count": 21,
   "metadata": {},
   "outputs": [],
   "source": [
    "df = df.drop(['Unnamed: 0'],axis=1)"
   ]
  },
  {
   "cell_type": "code",
   "execution_count": 22,
   "metadata": {},
   "outputs": [
    {
     "data": {
      "text/html": [
       "<div>\n",
       "<style scoped>\n",
       "    .dataframe tbody tr th:only-of-type {\n",
       "        vertical-align: middle;\n",
       "    }\n",
       "\n",
       "    .dataframe tbody tr th {\n",
       "        vertical-align: top;\n",
       "    }\n",
       "\n",
       "    .dataframe thead th {\n",
       "        text-align: right;\n",
       "    }\n",
       "</style>\n",
       "<table border=\"1\" class=\"dataframe\">\n",
       "  <thead>\n",
       "    <tr style=\"text-align: right;\">\n",
       "      <th></th>\n",
       "      <th>XIIth Board</th>\n",
       "      <th>XIIth score</th>\n",
       "      <th>Entrance given</th>\n",
       "      <th>JEE Score</th>\n",
       "      <th>GUJCET Score</th>\n",
       "      <th>College/University</th>\n",
       "      <th>Field</th>\n",
       "      <th>XII60</th>\n",
       "      <th>GUJCET 40%</th>\n",
       "      <th>JEE 40%</th>\n",
       "      <th>Final_G</th>\n",
       "      <th>Final_J</th>\n",
       "    </tr>\n",
       "  </thead>\n",
       "  <tbody>\n",
       "    <tr>\n",
       "      <th>0</th>\n",
       "      <td>GSEB</td>\n",
       "      <td>89.0</td>\n",
       "      <td>JEE, GUJCET</td>\n",
       "      <td>44.0</td>\n",
       "      <td>66.00</td>\n",
       "      <td>Indus University</td>\n",
       "      <td>Computer science and engineering</td>\n",
       "      <td>53.4</td>\n",
       "      <td>26.400</td>\n",
       "      <td>17.6</td>\n",
       "      <td>79.800</td>\n",
       "      <td>71.0</td>\n",
       "    </tr>\n",
       "    <tr>\n",
       "      <th>1</th>\n",
       "      <td>GSEB</td>\n",
       "      <td>71.0</td>\n",
       "      <td>JEE, GUJCET</td>\n",
       "      <td>67.0</td>\n",
       "      <td>67.00</td>\n",
       "      <td>Indus University</td>\n",
       "      <td>Computer science and engineering</td>\n",
       "      <td>42.6</td>\n",
       "      <td>26.800</td>\n",
       "      <td>26.8</td>\n",
       "      <td>69.400</td>\n",
       "      <td>69.4</td>\n",
       "    </tr>\n",
       "    <tr>\n",
       "      <th>2</th>\n",
       "      <td>CBSE</td>\n",
       "      <td>78.0</td>\n",
       "      <td>JEE, GUJCET</td>\n",
       "      <td>46.0</td>\n",
       "      <td>45.00</td>\n",
       "      <td>Indus University</td>\n",
       "      <td>Computer engineering</td>\n",
       "      <td>46.8</td>\n",
       "      <td>18.000</td>\n",
       "      <td>18.4</td>\n",
       "      <td>64.800</td>\n",
       "      <td>65.2</td>\n",
       "    </tr>\n",
       "    <tr>\n",
       "      <th>3</th>\n",
       "      <td>CBSE</td>\n",
       "      <td>70.0</td>\n",
       "      <td>JEE</td>\n",
       "      <td>55.0</td>\n",
       "      <td>NaN</td>\n",
       "      <td>Indus University</td>\n",
       "      <td>Computer engineering</td>\n",
       "      <td>42.0</td>\n",
       "      <td>NaN</td>\n",
       "      <td>22.0</td>\n",
       "      <td>NaN</td>\n",
       "      <td>64.0</td>\n",
       "    </tr>\n",
       "    <tr>\n",
       "      <th>4</th>\n",
       "      <td>GSEB</td>\n",
       "      <td>78.0</td>\n",
       "      <td>JEE, GUJCET</td>\n",
       "      <td>54.0</td>\n",
       "      <td>45.67</td>\n",
       "      <td>Indus University</td>\n",
       "      <td>Information technology</td>\n",
       "      <td>46.8</td>\n",
       "      <td>18.268</td>\n",
       "      <td>21.6</td>\n",
       "      <td>65.068</td>\n",
       "      <td>68.4</td>\n",
       "    </tr>\n",
       "  </tbody>\n",
       "</table>\n",
       "</div>"
      ],
      "text/plain": [
       "  XIIth Board  XIIth score Entrance given  JEE Score  GUJCET Score  \\\n",
       "0        GSEB         89.0    JEE, GUJCET       44.0         66.00   \n",
       "1        GSEB         71.0    JEE, GUJCET       67.0         67.00   \n",
       "2        CBSE         78.0    JEE, GUJCET       46.0         45.00   \n",
       "3        CBSE         70.0            JEE       55.0           NaN   \n",
       "4        GSEB         78.0    JEE, GUJCET       54.0         45.67   \n",
       "\n",
       "  College/University                             Field  XII60  GUJCET 40%  \\\n",
       "0   Indus University  Computer science and engineering   53.4      26.400   \n",
       "1   Indus University  Computer science and engineering   42.6      26.800   \n",
       "2   Indus University              Computer engineering   46.8      18.000   \n",
       "3   Indus University              Computer engineering   42.0         NaN   \n",
       "4   Indus University            Information technology   46.8      18.268   \n",
       "\n",
       "   JEE 40%  Final_G  Final_J  \n",
       "0     17.6   79.800     71.0  \n",
       "1     26.8   69.400     69.4  \n",
       "2     18.4   64.800     65.2  \n",
       "3     22.0      NaN     64.0  \n",
       "4     21.6   65.068     68.4  "
      ]
     },
     "execution_count": 22,
     "metadata": {},
     "output_type": "execute_result"
    }
   ],
   "source": [
    "df.head()"
   ]
  },
  {
   "cell_type": "code",
   "execution_count": 1,
   "metadata": {},
   "outputs": [
    {
     "ename": "NameError",
     "evalue": "name 'df' is not defined",
     "output_type": "error",
     "traceback": [
      "\u001b[0;31m---------------------------------------------------------------------------\u001b[0m",
      "\u001b[0;31mNameError\u001b[0m                                 Traceback (most recent call last)",
      "\u001b[0;32m<ipython-input-1-32bb9375609b>\u001b[0m in \u001b[0;36m<module>\u001b[0;34m\u001b[0m\n\u001b[0;32m----> 1\u001b[0;31m \u001b[0mdf\u001b[0m\u001b[0;34m.\u001b[0m\u001b[0mto_csv\u001b[0m\u001b[0;34m(\u001b[0m\u001b[0;34m'PR_data.csv'\u001b[0m\u001b[0;34m,\u001b[0m\u001b[0mindex\u001b[0m\u001b[0;34m=\u001b[0m\u001b[0;32mNone\u001b[0m\u001b[0;34m)\u001b[0m\u001b[0;34m\u001b[0m\u001b[0;34m\u001b[0m\u001b[0m\n\u001b[0m",
      "\u001b[0;31mNameError\u001b[0m: name 'df' is not defined"
     ]
    }
   ],
   "source": [
    "df.to_csv('PR_data.csv',index=None)"
   ]
  },
  {
   "cell_type": "code",
   "execution_count": 4,
   "metadata": {},
   "outputs": [],
   "source": [
    "df = pd.read_csv('PR_data.csv')"
   ]
  },
  {
   "cell_type": "code",
   "execution_count": 5,
   "metadata": {},
   "outputs": [
    {
     "data": {
      "text/html": [
       "<div>\n",
       "<style scoped>\n",
       "    .dataframe tbody tr th:only-of-type {\n",
       "        vertical-align: middle;\n",
       "    }\n",
       "\n",
       "    .dataframe tbody tr th {\n",
       "        vertical-align: top;\n",
       "    }\n",
       "\n",
       "    .dataframe thead th {\n",
       "        text-align: right;\n",
       "    }\n",
       "</style>\n",
       "<table border=\"1\" class=\"dataframe\">\n",
       "  <thead>\n",
       "    <tr style=\"text-align: right;\">\n",
       "      <th></th>\n",
       "      <th>XIIth Board</th>\n",
       "      <th>XIIth score</th>\n",
       "      <th>Entrance given</th>\n",
       "      <th>JEE Score</th>\n",
       "      <th>GUJCET Score</th>\n",
       "      <th>College/University</th>\n",
       "      <th>Field</th>\n",
       "      <th>XII60</th>\n",
       "      <th>GUJCET 40%</th>\n",
       "      <th>JEE 40%</th>\n",
       "      <th>Final_G</th>\n",
       "      <th>Final_J</th>\n",
       "    </tr>\n",
       "  </thead>\n",
       "  <tbody>\n",
       "    <tr>\n",
       "      <th>0</th>\n",
       "      <td>GSEB</td>\n",
       "      <td>89.0</td>\n",
       "      <td>JEE, GUJCET</td>\n",
       "      <td>44.0</td>\n",
       "      <td>66.00</td>\n",
       "      <td>Indus University</td>\n",
       "      <td>Computer science and engineering</td>\n",
       "      <td>53.4</td>\n",
       "      <td>26.400</td>\n",
       "      <td>17.6</td>\n",
       "      <td>79.800</td>\n",
       "      <td>71.0</td>\n",
       "    </tr>\n",
       "    <tr>\n",
       "      <th>1</th>\n",
       "      <td>GSEB</td>\n",
       "      <td>71.0</td>\n",
       "      <td>JEE, GUJCET</td>\n",
       "      <td>67.0</td>\n",
       "      <td>67.00</td>\n",
       "      <td>Indus University</td>\n",
       "      <td>Computer science and engineering</td>\n",
       "      <td>42.6</td>\n",
       "      <td>26.800</td>\n",
       "      <td>26.8</td>\n",
       "      <td>69.400</td>\n",
       "      <td>69.4</td>\n",
       "    </tr>\n",
       "    <tr>\n",
       "      <th>2</th>\n",
       "      <td>CBSE</td>\n",
       "      <td>78.0</td>\n",
       "      <td>JEE, GUJCET</td>\n",
       "      <td>46.0</td>\n",
       "      <td>45.00</td>\n",
       "      <td>Indus University</td>\n",
       "      <td>Computer engineering</td>\n",
       "      <td>46.8</td>\n",
       "      <td>18.000</td>\n",
       "      <td>18.4</td>\n",
       "      <td>64.800</td>\n",
       "      <td>65.2</td>\n",
       "    </tr>\n",
       "    <tr>\n",
       "      <th>3</th>\n",
       "      <td>CBSE</td>\n",
       "      <td>70.0</td>\n",
       "      <td>JEE</td>\n",
       "      <td>55.0</td>\n",
       "      <td>NaN</td>\n",
       "      <td>Indus University</td>\n",
       "      <td>Computer engineering</td>\n",
       "      <td>42.0</td>\n",
       "      <td>NaN</td>\n",
       "      <td>22.0</td>\n",
       "      <td>NaN</td>\n",
       "      <td>64.0</td>\n",
       "    </tr>\n",
       "    <tr>\n",
       "      <th>4</th>\n",
       "      <td>GSEB</td>\n",
       "      <td>78.0</td>\n",
       "      <td>JEE, GUJCET</td>\n",
       "      <td>54.0</td>\n",
       "      <td>45.67</td>\n",
       "      <td>Indus University</td>\n",
       "      <td>Information technology</td>\n",
       "      <td>46.8</td>\n",
       "      <td>18.268</td>\n",
       "      <td>21.6</td>\n",
       "      <td>65.068</td>\n",
       "      <td>68.4</td>\n",
       "    </tr>\n",
       "  </tbody>\n",
       "</table>\n",
       "</div>"
      ],
      "text/plain": [
       "  XIIth Board  XIIth score Entrance given  JEE Score  GUJCET Score  \\\n",
       "0        GSEB         89.0    JEE, GUJCET       44.0         66.00   \n",
       "1        GSEB         71.0    JEE, GUJCET       67.0         67.00   \n",
       "2        CBSE         78.0    JEE, GUJCET       46.0         45.00   \n",
       "3        CBSE         70.0            JEE       55.0           NaN   \n",
       "4        GSEB         78.0    JEE, GUJCET       54.0         45.67   \n",
       "\n",
       "  College/University                             Field  XII60  GUJCET 40%  \\\n",
       "0   Indus University  Computer science and engineering   53.4      26.400   \n",
       "1   Indus University  Computer science and engineering   42.6      26.800   \n",
       "2   Indus University              Computer engineering   46.8      18.000   \n",
       "3   Indus University              Computer engineering   42.0         NaN   \n",
       "4   Indus University            Information technology   46.8      18.268   \n",
       "\n",
       "   JEE 40%  Final_G  Final_J  \n",
       "0     17.6   79.800     71.0  \n",
       "1     26.8   69.400     69.4  \n",
       "2     18.4   64.800     65.2  \n",
       "3     22.0      NaN     64.0  \n",
       "4     21.6   65.068     68.4  "
      ]
     },
     "execution_count": 5,
     "metadata": {},
     "output_type": "execute_result"
    }
   ],
   "source": [
    "df.head()"
   ]
  },
  {
   "cell_type": "code",
   "execution_count": 18,
   "metadata": {},
   "outputs": [],
   "source": [
    "df['Entrance given'] = df['Entrance given'].fillna(df['Entrance given'].mode()[0])"
   ]
  },
  {
   "cell_type": "code",
   "execution_count": 19,
   "metadata": {},
   "outputs": [
    {
     "data": {
      "text/plain": [
       "0"
      ]
     },
     "execution_count": 19,
     "metadata": {},
     "output_type": "execute_result"
    }
   ],
   "source": [
    "df['Entrance given'].isnull().sum()"
   ]
  },
  {
   "cell_type": "code",
   "execution_count": 20,
   "metadata": {},
   "outputs": [
    {
     "name": "stdout",
     "output_type": "stream",
     "text": [
      "Enter your 12th score: 78\n",
      "Enter your JEE score: 57\n",
      "Enter your GUJCET score: 0\n",
      "Enter your 12th Board: 75\n",
      "Enter your entrance given: JEE\n",
      "Enter your choice of field: Computer engineering\n"
     ]
    }
   ],
   "source": [
    "twelve_marks = int(input('Enter your 12th score: '))*0.6\n",
    "JEE_marks = int(input('Enter your JEE score: '))*0.4\n",
    "GUJCET_marks = int(input('Enter your GUJCET score: '))*0.4\n",
    "Final_JM= twelve_marks + JEE_marks\n",
    "Final_GM= twelve_marks + GUJCET_marks\n",
    "twelve_board = (input('Enter your 12th Board: '))\n",
    "given_entrance = (input('Enter your entrance given: '))\n",
    "choose_field = (input('Enter your choice of field: '))"
   ]
  },
  {
   "cell_type": "code",
   "execution_count": 21,
   "metadata": {},
   "outputs": [],
   "source": [
    "df3 = df[(df[\"XIIth Board\"] == twelve_board) & (df['Entrance given'].str.contains(given_entrance, case=False))]"
   ]
  },
  {
   "cell_type": "code",
   "execution_count": 24,
   "metadata": {},
   "outputs": [
    {
     "data": {
      "text/html": [
       "<div>\n",
       "<style scoped>\n",
       "    .dataframe tbody tr th:only-of-type {\n",
       "        vertical-align: middle;\n",
       "    }\n",
       "\n",
       "    .dataframe tbody tr th {\n",
       "        vertical-align: top;\n",
       "    }\n",
       "\n",
       "    .dataframe thead th {\n",
       "        text-align: right;\n",
       "    }\n",
       "</style>\n",
       "<table border=\"1\" class=\"dataframe\">\n",
       "  <thead>\n",
       "    <tr style=\"text-align: right;\">\n",
       "      <th></th>\n",
       "      <th>XIIth Board</th>\n",
       "      <th>XIIth score</th>\n",
       "      <th>Entrance given</th>\n",
       "      <th>JEE Score</th>\n",
       "      <th>GUJCET Score</th>\n",
       "      <th>College/University</th>\n",
       "      <th>Field</th>\n",
       "      <th>XII60</th>\n",
       "      <th>GUJCET 40%</th>\n",
       "      <th>JEE 40%</th>\n",
       "      <th>Final_G</th>\n",
       "      <th>Final_J</th>\n",
       "    </tr>\n",
       "  </thead>\n",
       "  <tbody>\n",
       "  </tbody>\n",
       "</table>\n",
       "</div>"
      ],
      "text/plain": [
       "Empty DataFrame\n",
       "Columns: [XIIth Board, XIIth score, Entrance given, JEE Score, GUJCET Score, College/University, Field, XII60, GUJCET 40%, JEE 40%, Final_G, Final_J]\n",
       "Index: []"
      ]
     },
     "execution_count": 24,
     "metadata": {},
     "output_type": "execute_result"
    }
   ],
   "source": [
    "df3"
   ]
  },
  {
   "cell_type": "code",
   "execution_count": 22,
   "metadata": {},
   "outputs": [],
   "source": [
    "df3 = df3[(df3[\"Field\"] == choose_field) & (df3[\"Final_J\"] <= Final_JM)]"
   ]
  },
  {
   "cell_type": "code",
   "execution_count": 23,
   "metadata": {},
   "outputs": [
    {
     "data": {
      "text/plain": [
       "Series([], Name: College/University, dtype: object)"
      ]
     },
     "execution_count": 23,
     "metadata": {},
     "output_type": "execute_result"
    }
   ],
   "source": [
    "df3['College/University']"
   ]
  },
  {
   "cell_type": "code",
   "execution_count": null,
   "metadata": {},
   "outputs": [],
   "source": []
  }
 ],
 "metadata": {
  "kernelspec": {
   "display_name": "Python 3",
   "language": "python",
   "name": "python3"
  },
  "language_info": {
   "codemirror_mode": {
    "name": "ipython",
    "version": 3
   },
   "file_extension": ".py",
   "mimetype": "text/x-python",
   "name": "python",
   "nbconvert_exporter": "python",
   "pygments_lexer": "ipython3",
   "version": "3.8.5"
  }
 },
 "nbformat": 4,
 "nbformat_minor": 4
}
